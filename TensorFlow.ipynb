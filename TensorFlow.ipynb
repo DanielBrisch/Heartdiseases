{
  "nbformat": 4,
  "nbformat_minor": 0,
  "metadata": {
    "colab": {
      "provenance": [],
      "authorship_tag": "ABX9TyM0BcF1PTZzkTEaIOZHjNa9",
      "include_colab_link": true
    },
    "kernelspec": {
      "name": "python3",
      "display_name": "Python 3"
    },
    "language_info": {
      "name": "python"
    }
  },
  "cells": [
    {
      "cell_type": "markdown",
      "metadata": {
        "id": "view-in-github",
        "colab_type": "text"
      },
      "source": [
        "<a href=\"https://colab.research.google.com/github/DanielBrisch/Heartdiseases/blob/main/TensorFlow.ipynb\" target=\"_parent\"><img src=\"https://colab.research.google.com/assets/colab-badge.svg\" alt=\"Open In Colab\"/></a>"
      ]
    },
    {
      "cell_type": "code",
      "execution_count": null,
      "metadata": {
        "id": "__0371MydF7v"
      },
      "outputs": [],
      "source": [
        "import tensorflow as tf"
      ]
    },
    {
      "cell_type": "code",
      "source": [
        "tf.random.set_seed(31)"
      ],
      "metadata": {
        "id": "sSJbhdJPdbL-"
      },
      "execution_count": null,
      "outputs": []
    },
    {
      "cell_type": "code",
      "source": [
        "versao_tensorflow = tf.__version__\n",
        "print(f'TensorFlow instalado na versao: {versao_tensorflow}')"
      ],
      "metadata": {
        "colab": {
          "base_uri": "https://localhost:8080/"
        },
        "id": "TnOYk_ikditV",
        "outputId": "71dc43c4-4208-42ad-e673-7712dc4e3bdd"
      },
      "execution_count": null,
      "outputs": [
        {
          "output_type": "stream",
          "name": "stdout",
          "text": [
            "TensorFlow instalado na versao: 2.15.0\n"
          ]
        }
      ]
    },
    {
      "cell_type": "code",
      "source": [
        "peso = tf.Variable(tf.random.normal([1]), name='peso')\n",
        "vies = tf.Variable(tf.random.normal([1], name='vies'))"
      ],
      "metadata": {
        "id": "4R9-X1Tvd2Ct"
      },
      "execution_count": null,
      "outputs": []
    },
    {
      "cell_type": "code",
      "source": [
        "peso"
      ],
      "metadata": {
        "colab": {
          "base_uri": "https://localhost:8080/"
        },
        "id": "HcMm84dHe8Fw",
        "outputId": "86910f80-dcd7-44ae-e65b-11be818ef8d3"
      },
      "execution_count": null,
      "outputs": [
        {
          "output_type": "execute_result",
          "data": {
            "text/plain": [
              "<tf.Variable 'peso:0' shape=(1,) dtype=float32, numpy=array([-0.3594139], dtype=float32)>"
            ]
          },
          "metadata": {},
          "execution_count": 24
        }
      ]
    },
    {
      "cell_type": "code",
      "source": [
        "vies"
      ],
      "metadata": {
        "colab": {
          "base_uri": "https://localhost:8080/"
        },
        "id": "eQihQz_dfDCe",
        "outputId": "f2bef58f-26ab-4fa8-c75b-e11f7e82b04d"
      },
      "execution_count": null,
      "outputs": [
        {
          "output_type": "execute_result",
          "data": {
            "text/plain": [
              "<tf.Variable 'Variable:0' shape=(1,) dtype=float32, numpy=array([0.15100643], dtype=float32)>"
            ]
          },
          "metadata": {},
          "execution_count": 25
        }
      ]
    },
    {
      "cell_type": "code",
      "source": [
        "print(f'Peso = {peso.numpy()}')\n",
        "print(f'Vies = {vies.numpy()}')"
      ],
      "metadata": {
        "colab": {
          "base_uri": "https://localhost:8080/"
        },
        "id": "K7xpMpgNfDZd",
        "outputId": "0ad615b2-8b81-486a-e093-1d5e411a9f2f"
      },
      "execution_count": null,
      "outputs": [
        {
          "output_type": "stream",
          "name": "stdout",
          "text": [
            "Peso = [-0.3594139]\n",
            "Vies = [0.15100643]\n"
          ]
        }
      ]
    },
    {
      "cell_type": "code",
      "source": [
        "def neuronio(x):\n",
        "  z = tf.add(tf.multiply(x, peso), vies)\n",
        "  return z"
      ],
      "metadata": {
        "id": "QMVYxaPFfWZ5"
      },
      "execution_count": null,
      "outputs": []
    },
    {
      "cell_type": "code",
      "source": [
        "exemplo = tf.constant(10)"
      ],
      "metadata": {
        "id": "6S_grMPPfmbV"
      },
      "execution_count": null,
      "outputs": []
    },
    {
      "cell_type": "code",
      "source": [
        "exemplo = tf.constant(10.0)"
      ],
      "metadata": {
        "id": "-0hPY79sfrhW"
      },
      "execution_count": null,
      "outputs": []
    },
    {
      "cell_type": "code",
      "source": [
        "neuronio(exemplo)"
      ],
      "metadata": {
        "colab": {
          "base_uri": "https://localhost:8080/"
        },
        "id": "19tdwvAvf3nR",
        "outputId": "e771d330-1a89-4fcf-f655-33934949c5b4"
      },
      "execution_count": null,
      "outputs": [
        {
          "output_type": "execute_result",
          "data": {
            "text/plain": [
              "<tf.Tensor: shape=(1,), dtype=float32, numpy=array([-3.4431324], dtype=float32)>"
            ]
          },
          "metadata": {},
          "execution_count": 32
        }
      ]
    },
    {
      "cell_type": "code",
      "source": [
        "import matplotlib.pyplot as plt\n",
        "import numpy as np"
      ],
      "metadata": {
        "id": "wwlziErCf6Jv"
      },
      "execution_count": null,
      "outputs": []
    },
    {
      "cell_type": "code",
      "source": [
        "def gera_grafico():\n",
        "  x = np.linspace(-10, 10, 100)\n",
        "  y = tf.sin(x)\n",
        "  plt.plot(x, y)\n",
        "  plt.xlabel('x')\n",
        "  plt.title('Funcao seno')\n",
        "  plt.show()\n",
        "\n",
        "gera_grafico()"
      ],
      "metadata": {
        "colab": {
          "base_uri": "https://localhost:8080/",
          "height": 472
        },
        "id": "YBL6rFdEgf0E",
        "outputId": "ba0e765c-4ea4-4e62-9b36-9f8e81ca5454"
      },
      "execution_count": null,
      "outputs": [
        {
          "output_type": "display_data",
          "data": {
            "text/plain": [
              "<Figure size 640x480 with 1 Axes>"
            ],
            "image/png": "[encoded data removed]"
          },
          "metadata": {}
        }
      ]
    },
    {
      "cell_type": "code",
      "source": [
        "def gera_grafico():\n",
        "  x = np.linspace(-10, 10, 100)\n",
        "  y = (tf.sin(x) + 1) / 2\n",
        "  y2 = tf.sigmoid(x)\n",
        "\n",
        "  plt.plot(x, y)\n",
        "  plt.plot(x, y2)\n",
        "  plt.xlabel('x')\n",
        "  plt.title('Funcao seno x sigmoid')\n",
        "  plt.show()\n",
        "\n",
        "gera_grafico()\n"
      ],
      "metadata": {
        "colab": {
          "base_uri": "https://localhost:8080/",
          "height": 472
        },
        "id": "ar61cMXZgrzN",
        "outputId": "445ac312-250d-423f-fc8f-aff5da47cbb4"
      },
      "execution_count": null,
      "outputs": [
        {
          "output_type": "display_data",
          "data": {
            "text/plain": [
              "<Figure size 640x480 with 1 Axes>"
            ],
            "image/png": "[encoded data removed]"
          },
          "metadata": {}
        }
      ]
    },
    {
      "cell_type": "code",
      "source": [
        "pb = tf.sigmoid(neuronio(tf.constant([10.0])))\n",
        "pb"
      ],
      "metadata": {
        "colab": {
          "base_uri": "https://localhost:8080/"
        },
        "id": "UjnG4yS9hSdd",
        "outputId": "c5d608cb-6450-4bfb-d84e-8fc909c877db"
      },
      "execution_count": null,
      "outputs": [
        {
          "output_type": "execute_result",
          "data": {
            "text/plain": [
              "<tf.Tensor: shape=(1,), dtype=float32, numpy=array([0.03097433], dtype=float32)>"
            ]
          },
          "metadata": {},
          "execution_count": 45
        }
      ]
    },
    {
      "cell_type": "code",
      "source": [
        " pb > 0.5"
      ],
      "metadata": {
        "colab": {
          "base_uri": "https://localhost:8080/"
        },
        "id": "Ucs56vdhlwdB",
        "outputId": "89c48957-60cc-4d7e-b044-871c23bec3b2"
      },
      "execution_count": null,
      "outputs": [
        {
          "output_type": "execute_result",
          "data": {
            "text/plain": [
              "<tf.Tensor: shape=(1,), dtype=bool, numpy=array([False])>"
            ]
          },
          "metadata": {},
          "execution_count": 46
        }
      ]
    },
    {
      "cell_type": "code",
      "source": [
        "!pip install ucimlrepo\n",
        "from ucimlrepo import fetch_ucirepo\n",
        "doenca_cardiaca = fetch_ucirepo(id=45)\n",
        "\n",
        "X = doenca_cardiaca.data.features\n",
        "X = X[['age', 'chol', 'cp']]"
      ],
      "metadata": {
        "colab": {
          "base_uri": "https://localhost:8080/"
        },
        "id": "IKHvrdMYm5Ki",
        "outputId": "763e18ab-d829-4910-a7ff-55151c978de4"
      },
      "execution_count": null,
      "outputs": [
        {
          "output_type": "stream",
          "name": "stdout",
          "text": [
            "Collecting ucimlrepo\n",
            "  Downloading ucimlrepo-0.0.6-py3-none-any.whl (8.0 kB)\n",
            "Installing collected packages: ucimlrepo\n",
            "Successfully installed ucimlrepo-0.0.6\n"
          ]
        }
      ]
    },
    {
      "cell_type": "code",
      "source": [
        "pb = tf.sigmoid(neuronio(tf.constant(X['chol'], dtype = tf.float32)))"
      ],
      "metadata": {
        "id": "MJRkLamAnie7"
      },
      "execution_count": null,
      "outputs": []
    },
    {
      "cell_type": "code",
      "source": [
        "(pb > 0.5)[:10]"
      ],
      "metadata": {
        "colab": {
          "base_uri": "https://localhost:8080/"
        },
        "id": "XfI24kK5pnvR",
        "outputId": "8aba4f6d-1229-4a04-f539-4933363462d3"
      },
      "execution_count": null,
      "outputs": [
        {
          "output_type": "execute_result",
          "data": {
            "text/plain": [
              "<tf.Tensor: shape=(10,), dtype=bool, numpy=\n",
              "array([False, False, False, False, False, False, False, False, False,\n",
              "       False])>"
            ]
          },
          "metadata": {},
          "execution_count": 51
        }
      ]
    },
    {
      "cell_type": "code",
      "source": [
        "target = doenca_cardiaca.data.targets\n",
        "target = (target > 0) * 1"
      ],
      "metadata": {
        "id": "jntDhSsSpugv"
      },
      "execution_count": null,
      "outputs": []
    },
    {
      "cell_type": "code",
      "source": [
        "y = tf.constant(target, dtype=tf.float32)\n",
        "y[:10]"
      ],
      "metadata": {
        "colab": {
          "base_uri": "https://localhost:8080/"
        },
        "id": "7P7IoXLaqWmd",
        "outputId": "0be503c2-3b4a-4c91-bb73-5fc2108cc549"
      },
      "execution_count": null,
      "outputs": [
        {
          "output_type": "execute_result",
          "data": {
            "text/plain": [
              "<tf.Tensor: shape=(10, 1), dtype=float32, numpy=\n",
              "array([[0.],\n",
              "       [1.],\n",
              "       [1.],\n",
              "       [0.],\n",
              "       [0.],\n",
              "       [0.],\n",
              "       [1.],\n",
              "       [0.],\n",
              "       [1.],\n",
              "       [1.]], dtype=float32)>"
            ]
          },
          "metadata": {},
          "execution_count": 53
        }
      ]
    },
    {
      "cell_type": "code",
      "source": [
        "calculadora_perda = tf.keras.losses.BinaryCrossentropy()"
      ],
      "metadata": {
        "id": "0cwhswDZqho5"
      },
      "execution_count": null,
      "outputs": []
    },
    {
      "cell_type": "code",
      "source": [
        "perda = calculadora_perda(y_true = y, y_pred = pb)"
      ],
      "metadata": {
        "colab": {
          "base_uri": "https://localhost:8080/"
        },
        "id": "yXM22uzbq7AS",
        "outputId": "74c84a20-e035-4be3-a921-5c891ed5d757"
      },
      "execution_count": null,
      "outputs": [
        {
          "output_type": "execute_result",
          "data": {
            "text/plain": [
              "<tf.Tensor: shape=(), dtype=float32, numpy=7.076132>"
            ]
          },
          "metadata": {},
          "execution_count": 56
        }
      ]
    },
    {
      "cell_type": "code",
      "source": [
        "perda"
      ],
      "metadata": {
        "colab": {
          "base_uri": "https://localhost:8080/"
        },
        "id": "N3q6baN7rF58",
        "outputId": "0b20d77b-d6ab-4962-c659-1003ad9ec5f9"
      },
      "execution_count": null,
      "outputs": [
        {
          "output_type": "execute_result",
          "data": {
            "text/plain": [
              "<tf.Tensor: shape=(), dtype=float32, numpy=7.076132>"
            ]
          },
          "metadata": {},
          "execution_count": 57
        }
      ]
    },
    {
      "cell_type": "code",
      "source": [
        "np.mean(y.numpy() == ((pb.numpy() > 0.5) * 1))"
      ],
      "metadata": {
        "colab": {
          "base_uri": "https://localhost:8080/"
        },
        "id": "HfIqQqkHrNhA",
        "outputId": "05b2f5b9-e9db-4d72-f5c6-cc2bb82f22f1"
      },
      "execution_count": null,
      "outputs": [
        {
          "output_type": "execute_result",
          "data": {
            "text/plain": [
              "0.5412541254125413"
            ]
          },
          "metadata": {},
          "execution_count": 58
        }
      ]
    },
    {
      "cell_type": "code",
      "source": [],
      "metadata": {
        "id": "BqD83CG5sDP0"
      },
      "execution_count": null,
      "outputs": []
    }
  ]
}